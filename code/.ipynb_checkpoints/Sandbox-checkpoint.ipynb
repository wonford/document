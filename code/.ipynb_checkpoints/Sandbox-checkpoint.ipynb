{
 "cells": [
  {
   "cell_type": "markdown",
   "id": "ddbbe56c",
   "metadata": {},
   "source": [
    "# Documents\n",
    "Bit of a sandbox. I have an sqlAlchemy model in mind (models.py), but need to chack the actual assembly in Word, and what can and can't be done.\n",
    "\n",
    "There is also the issue of docx vs docx/bayoo\n",
    "\n",
    "But, lets start with a para:"
   ]
  },
  {
   "cell_type": "markdown",
   "id": "ba3ed42a",
   "metadata": {},
   "source": [
    "Lorem ipsum dolor sit amet, consectetur adipiscing elit. **Phasellus sit amet maximus mi, sit amet iaculis lorem**. Nullam a mauris ullamcorper, lacinia mauris in, blandit mauris. Mauris dictum lacus non scelerisque rhoncus. Vestibulum posuere diam eu est cursus, at tempor tortor mattis. *Phasellus id feugiat lorem*. Suspendisse vitae enim congue, cursus magna eget, porta lacus. Praesent suscipit urna in augue aliquet scelerisque. Quisque ut lorem finibus erat porta imperdiet. Morbi nec lectus eu libero feugiat eleifend. Integer sapien orci, dignissim nec risus et, rutrum suscipit lectus. Quisque nec neque faucibus, ultricies tortor eu, placerat velit."
   ]
  },
  {
   "cell_type": "code",
   "execution_count": 2,
   "id": "11ac1fe6",
   "metadata": {},
   "outputs": [],
   "source": [
    "from docx import Document\n",
    "from docx.shared import Pt\n",
    "\n",
    "document = Document()\n",
    "\n",
    "# para of five runs\n",
    "runs = [\n",
    "    'Lorem ipsum dolor sit amet, consectetur adipiscing elit.',\n",
    "    ' Phasellus sit amet maximus mi, sit amet iaculis lorem.',\n",
    "    ' Nullam a mauris ullamcorper, lacinia mauris in, blandit mauris. Mauris dictum lacus non scelerisque rhoncus. Vestibulum posuere diam eu est cursus, at tempor tortor mattis.',\n",
    "    ' Phasellus id feugiat lorem.',\n",
    "    ' Suspendisse vitae enim congue, cursus magna eget, porta lacus. Praesent suscipit urna in augue aliquet scelerisque. Quisque ut lorem finibus erat porta imperdiet. Morbi nec lectus eu libero feugiat eleifend. Integer sapien orci, dignissim nec risus et, rutrum suscipit lectus. Quisque nec neque faucibus, ultricies tortor eu, placerat velit.',\n",
    "]\n",
    "\n",
    "style = document.styles['Normal']\n",
    "font = style.font\n",
    "font.name = 'Calibri'\n",
    "font.size = Pt(11)\n",
    "\n",
    "p = document.add_paragraph()\n",
    "p.add_run(runs[0])\n",
    "p.add_run(runs[1]).bold = True\n",
    "p.add_run(runs[2])\n",
    "p.add_run(runs[3]).italic = True\n",
    "p.add_run(runs[4])\n",
    "\n",
    "document.save('../io/file/output/demo.docx')"
   ]
  },
  {
   "cell_type": "markdown",
   "id": "e70eb889",
   "metadata": {},
   "source": [
    "And the above works fine.\n",
    "\n",
    "First obvious question is the relay from db to formatting without evals everywhere, or horrible if..elseif...else blocks.\n",
    "\n",
    "Next issue is how to display this on web frontend - although I guess there may be some wysiwyg styling libraries out there."
   ]
  },
  {
   "cell_type": "markdown",
   "id": "2ba3ccc1",
   "metadata": {},
   "source": [
    "## Table idea\n",
    "Within the model, I've introduced the idea of a frame.\n",
    "\n",
    "This is to try and simplify requiremnent for tables in the document. My idea is that all paragraphs sit within a table, the trivial example being a one cell table holding just that paragraph. This removes a function fork between tables and text, mainly because all regulatory documents seem to have tables. Will make editting the final Word doc a bit harder, but may simplify its generation. Obvious potential issues invol;ve numbering and the contents block.\n",
    "\n",
    "Immediate issue is that tables need cells, so may need one more hierarchical block but ... if all paras are wrapped as cells, they should just need coordinates. And if the frame holds row and col numbers, sequential left-to-right, top-to-bottom should work surely?\n",
    "\n",
    "I've aslo introduced the idea of a sequence. Again, trivial example is a sequence of one. Hoever, when content needs to be dynamically ordered blocks of repeated sub-templates (ie risk narratives), this could help on the generation side.\n",
    "\n",
    "So: lets play with tables..."
   ]
  },
  {
   "cell_type": "code",
   "execution_count": 7,
   "id": "9d16b916",
   "metadata": {},
   "outputs": [],
   "source": [
    "from docx import Document\n",
    "from docx.shared import Pt\n",
    "\n",
    "document = Document()\n",
    "\n",
    "# para of five runs\n",
    "runs = [\n",
    "    'Lorem ipsum dolor sit amet, consectetur adipiscing elit.',\n",
    "    ' Phasellus sit amet maximus mi, sit amet iaculis lorem.',\n",
    "    ' Nullam a mauris ullamcorper, lacinia mauris in, blandit mauris. Mauris dictum lacus non scelerisque rhoncus. Vestibulum posuere diam eu est cursus, at tempor tortor mattis.',\n",
    "    ' Phasellus id feugiat lorem.',\n",
    "    ' Suspendisse vitae enim congue, cursus magna eget, porta lacus. Praesent suscipit urna in augue aliquet scelerisque. Quisque ut lorem finibus erat porta imperdiet. Morbi nec lectus eu libero feugiat eleifend. Integer sapien orci, dignissim nec risus et, rutrum suscipit lectus. Quisque nec neque faucibus, ultricies tortor eu, placerat velit.',\n",
    "]\n",
    "\n",
    "style = document.styles['Normal']\n",
    "font = style.font\n",
    "font.name = 'Calibri'\n",
    "font.size = Pt(11)\n",
    "\n",
    "#lets put in a table wrapper\n",
    "\n",
    "table = document.add_table(rows=1, cols=1)\n",
    "cells = table.rows[0].cells\n",
    "p = cells[0].add_paragraph()\n",
    "p.add_run(runs[0])\n",
    "p.add_run(runs[1]).bold = True\n",
    "p.add_run(runs[2])\n",
    "p.add_run(runs[3]).italic = True\n",
    "p.add_run(runs[4])\n",
    "\n",
    "document.save('../io/file/output/demo.docx')"
   ]
  },
  {
   "cell_type": "markdown",
   "id": "ae75e18d",
   "metadata": {},
   "source": [
    "The above seems to work fine.\n",
    "\n",
    "Going to move out to a seperate script file now (table.py) to try out object stack\n",
    "\n",
    "OK, so ideas seem to be holding up fine - table.py runs off a json file to table-formatted document.\n",
    "\n",
    "Next step; generate the disclosures document this way to meet the real world, add in necessary object attributes etc.\n",
    "\n",
    "After that, move to running from database - I like the db -> json idea.\n"
   ]
  },
  {
   "cell_type": "code",
   "execution_count": null,
   "id": "5137d72e",
   "metadata": {},
   "outputs": [],
   "source": []
  }
 ],
 "metadata": {
  "kernelspec": {
   "display_name": "Python 3 (ipykernel)",
   "language": "python",
   "name": "python3"
  },
  "language_info": {
   "codemirror_mode": {
    "name": "ipython",
    "version": 3
   },
   "file_extension": ".py",
   "mimetype": "text/x-python",
   "name": "python",
   "nbconvert_exporter": "python",
   "pygments_lexer": "ipython3",
   "version": "3.10.4"
  }
 },
 "nbformat": 4,
 "nbformat_minor": 5
}
